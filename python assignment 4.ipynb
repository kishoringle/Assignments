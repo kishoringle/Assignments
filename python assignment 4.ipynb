{
 "cells": [
  {
   "cell_type": "code",
   "execution_count": 7,
   "metadata": {},
   "outputs": [
    {
     "name": "stdout",
     "output_type": "stream",
     "text": [
      "Enter length of side1 of triangle\n",
      "4\n",
      "Enter length of side2 of triangle\n",
      "5\n",
      "Enter length of side3 of triangle\n",
      "6\n",
      "121.8605760695394\n"
     ]
    }
   ],
   "source": [
    "#1.1 Write a Python Program(with class concepts) to find the area of the triangle using the below formula. \n",
    "# area = (s*(s-a)*(s-b)*(s-c)) ** 0.5 - s is a semiperimeter of triangle\n",
    "\n",
    "# Function to take the length of the sides of triangle from user should be defined in the parent class \n",
    "# and function to calculate the area should be defined in subclass.\n",
    "\n",
    "class A:\n",
    "    def get_len(self):\n",
    "        print(\"Enter length of side1 of triangle\")\n",
    "        a = int(input())\n",
    "        print(\"Enter length of side2 of triangle\")\n",
    "        b = int(input())\n",
    "        print(\"Enter length of side3 of triangle\")\n",
    "        c = int(input())\n",
    "        return a,b,c\n",
    "class B(A):\n",
    "    def calculate_area(self):\n",
    "        a,b,c = self.get_len()\n",
    "        s = a + b + c\n",
    "        return (s*(s-a)*(s-b)*(s-c)) ** 0.5\n",
    "obj = B()\n",
    "#obj.get_len()\n",
    "print(obj.calculate_area())"
   ]
  },
  {
   "cell_type": "code",
   "execution_count": 12,
   "metadata": {},
   "outputs": [
    {
     "data": {
      "text/plain": [
       "['kishor', 'ashok', 'ingle']"
      ]
     },
     "execution_count": 12,
     "metadata": {},
     "output_type": "execute_result"
    }
   ],
   "source": [
    "# 1.2 Write a function filter_long_words() that takes a list of words and an integer n \n",
    "# and returns the list of words that are longer than n.\n",
    "def filter_long_words(words,n):\n",
    "    return list(word for word in words if len(word)>n )\n",
    "filter_long_words([\"kishor\",\"ashok\",\"ingle\",\"ki\",\"in\"],2)\n"
   ]
  },
  {
   "cell_type": "code",
   "execution_count": 14,
   "metadata": {},
   "outputs": [
    {
     "data": {
      "text/plain": [
       "[6, 5, 5, 2, 2]"
      ]
     },
     "execution_count": 14,
     "metadata": {},
     "output_type": "execute_result"
    }
   ],
   "source": [
    "#2.1 Write a Python program using function concept that maps list of words into a list of integers representing the lengths of the corresponding words. \n",
    "# Hint: If a list [ ab,cde,erty] is passed on to the python function output should come as [2,3,4] \n",
    "# Here 2,3 and 4 are the lengths of the words in the list. \n",
    "\n",
    "def len_word(word):\n",
    "    return len(word)\n",
    "list(map(len_word,[\"kishor\",\"ashok\",\"ingle\",\"ki\",\"in\"]))"
   ]
  },
  {
   "cell_type": "code",
   "execution_count": 21,
   "metadata": {},
   "outputs": [
    {
     "name": "stdout",
     "output_type": "stream",
     "text": [
      "True\n",
      "False\n"
     ]
    }
   ],
   "source": [
    "# 2.2 Write a Python function which takes a character (i.e. a string of length 1) and returns True if \n",
    "# it is a vowel, False otherwise\n",
    "def check_vowel(c):\n",
    "    if c in \"aeiouAEIOU\":\n",
    "        return True\n",
    "    else:\n",
    "        return False\n",
    "print(check_vowel(\"A\"))\n",
    "print(check_vowel(\"w\"))"
   ]
  },
  {
   "cell_type": "code",
   "execution_count": null,
   "metadata": {},
   "outputs": [],
   "source": []
  }
 ],
 "metadata": {
  "kernelspec": {
   "display_name": "Python 3",
   "language": "python",
   "name": "python3"
  },
  "language_info": {
   "codemirror_mode": {
    "name": "ipython",
    "version": 3
   },
   "file_extension": ".py",
   "mimetype": "text/x-python",
   "name": "python",
   "nbconvert_exporter": "python",
   "pygments_lexer": "ipython3",
   "version": "3.7.6"
  }
 },
 "nbformat": 4,
 "nbformat_minor": 4
}
